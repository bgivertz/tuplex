{
 "cells": [
  {
   "cell_type": "code",
   "execution_count": 60,
   "metadata": {},
   "outputs": [],
   "source": [
    "import glob\n",
    "import json\n",
    "import re\n",
    "import pandas as pd\n",
    "import os"
   ]
  },
  {
   "cell_type": "code",
   "execution_count": 61,
   "metadata": {},
   "outputs": [],
   "source": [
    "logs_path = '../results-agg-experiment/logs'"
   ]
  },
  {
   "cell_type": "code",
   "execution_count": 62,
   "metadata": {},
   "outputs": [],
   "source": [
    "paths = glob.glob(os.path.join(logs_path, '*.txt'))"
   ]
  },
  {
   "cell_type": "code",
   "execution_count": 64,
   "metadata": {},
   "outputs": [
    {
     "data": {
      "text/plain": [
       "50"
      ]
     },
     "execution_count": 64,
     "metadata": {},
     "output_type": "execute_result"
    }
   ],
   "source": [
    "len(paths)"
   ]
  },
  {
   "cell_type": "code",
   "execution_count": 65,
   "metadata": {},
   "outputs": [],
   "source": [
    "path = paths[0]"
   ]
  },
  {
   "cell_type": "code",
   "execution_count": 66,
   "metadata": {},
   "outputs": [],
   "source": [
    "rows = []\n",
    "for path in paths:\n",
    "    try:\n",
    "        name = os.path.basename(path)\n",
    "        t = name[:name.find('-run')].replace('flights-', '')\n",
    "        r = int(name[name.find('run-')+4:name.rfind('-date')])\n",
    "\n",
    "        yearmonth = int(name[name.find('date-')+5:].replace('.txt', ''))\n",
    "        year = yearmonth // 100\n",
    "        month = yearmonth % 100\n",
    "        row = {'type' : t, 'run' : r, 'year' : int(year), 'month' : int(month)}\n",
    "\n",
    "        with open(path, 'r') as fp:\n",
    "            lines = fp.readlines()\n",
    "\n",
    "        row.update({'t_' + k : v for k, v in json.loads(lines[-1]).items()})\n",
    "        rows.append(row)\n",
    "    except Exception as e:\n",
    "        print('ERROR: {}'.format(path))"
   ]
  },
  {
   "cell_type": "code",
   "execution_count": 67,
   "metadata": {},
   "outputs": [],
   "source": [
    "df = pd.DataFrame(rows)"
   ]
  },
  {
   "cell_type": "code",
   "execution_count": 68,
   "metadata": {},
   "outputs": [],
   "source": [
    "gdf = df.groupby(['type', 'year', 'month']).mean().reset_index()"
   ]
  },
  {
   "cell_type": "code",
   "execution_count": 69,
   "metadata": {},
   "outputs": [],
   "source": [
    "import matplotlib.pyplot as plt\n",
    "import numpy as np"
   ]
  },
  {
   "cell_type": "code",
   "execution_count": 70,
   "metadata": {},
   "outputs": [],
   "source": [
    "import seaborn as sns"
   ]
  },
  {
   "cell_type": "code",
   "execution_count": 71,
   "metadata": {},
   "outputs": [],
   "source": [
    "gdf = gdf.sort_values(by=['year', 'month', 'type']).reset_index(drop=True)"
   ]
  },
  {
   "cell_type": "code",
   "execution_count": 72,
   "metadata": {},
   "outputs": [
    {
     "data": {
      "text/html": [
       "<div>\n",
       "<style scoped>\n",
       "    .dataframe tbody tr th:only-of-type {\n",
       "        vertical-align: middle;\n",
       "    }\n",
       "\n",
       "    .dataframe tbody tr th {\n",
       "        vertical-align: top;\n",
       "    }\n",
       "\n",
       "    .dataframe thead th {\n",
       "        text-align: right;\n",
       "    }\n",
       "</style>\n",
       "<table border=\"1\" class=\"dataframe\">\n",
       "  <thead>\n",
       "    <tr style=\"text-align: right;\">\n",
       "      <th></th>\n",
       "      <th>type</th>\n",
       "      <th>year</th>\n",
       "      <th>month</th>\n",
       "      <th>run</th>\n",
       "      <th>t_output</th>\n",
       "      <th>t_transform</th>\n",
       "      <th>t_total</th>\n",
       "    </tr>\n",
       "  </thead>\n",
       "  <tbody>\n",
       "    <tr>\n",
       "      <th>0</th>\n",
       "      <td>general</td>\n",
       "      <td>1987</td>\n",
       "      <td>10</td>\n",
       "      <td>6.0</td>\n",
       "      <td>0.000235</td>\n",
       "      <td>2.010697</td>\n",
       "      <td>2.010934</td>\n",
       "    </tr>\n",
       "    <tr>\n",
       "      <th>1</th>\n",
       "      <td>specialized</td>\n",
       "      <td>1987</td>\n",
       "      <td>10</td>\n",
       "      <td>6.0</td>\n",
       "      <td>0.000252</td>\n",
       "      <td>1.989872</td>\n",
       "      <td>1.990122</td>\n",
       "    </tr>\n",
       "    <tr>\n",
       "      <th>2</th>\n",
       "      <td>general</td>\n",
       "      <td>1987</td>\n",
       "      <td>11</td>\n",
       "      <td>6.0</td>\n",
       "      <td>0.000255</td>\n",
       "      <td>1.863666</td>\n",
       "      <td>1.863921</td>\n",
       "    </tr>\n",
       "    <tr>\n",
       "      <th>3</th>\n",
       "      <td>specialized</td>\n",
       "      <td>1987</td>\n",
       "      <td>11</td>\n",
       "      <td>6.0</td>\n",
       "      <td>0.000248</td>\n",
       "      <td>1.867912</td>\n",
       "      <td>1.868159</td>\n",
       "    </tr>\n",
       "    <tr>\n",
       "      <th>4</th>\n",
       "      <td>specialized</td>\n",
       "      <td>1987</td>\n",
       "      <td>12</td>\n",
       "      <td>3.5</td>\n",
       "      <td>0.055572</td>\n",
       "      <td>2.044458</td>\n",
       "      <td>2.100032</td>\n",
       "    </tr>\n",
       "  </tbody>\n",
       "</table>\n",
       "</div>"
      ],
      "text/plain": [
       "          type  year  month  run  t_output  t_transform   t_total\n",
       "0      general  1987     10  6.0  0.000235     2.010697  2.010934\n",
       "1  specialized  1987     10  6.0  0.000252     1.989872  1.990122\n",
       "2      general  1987     11  6.0  0.000255     1.863666  1.863921\n",
       "3  specialized  1987     11  6.0  0.000248     1.867912  1.868159\n",
       "4  specialized  1987     12  3.5  0.055572     2.044458  2.100032"
      ]
     },
     "execution_count": 72,
     "metadata": {},
     "output_type": "execute_result"
    }
   ],
   "source": [
    "gdf"
   ]
  },
  {
   "cell_type": "code",
   "execution_count": 73,
   "metadata": {},
   "outputs": [],
   "source": [
    "gdf_general = gdf.iloc[::2]\n",
    "gdf_special = gdf.iloc[1::2]"
   ]
  },
  {
   "cell_type": "code",
   "execution_count": 74,
   "metadata": {},
   "outputs": [
    {
     "data": {
      "text/html": [
       "<div>\n",
       "<style scoped>\n",
       "    .dataframe tbody tr th:only-of-type {\n",
       "        vertical-align: middle;\n",
       "    }\n",
       "\n",
       "    .dataframe tbody tr th {\n",
       "        vertical-align: top;\n",
       "    }\n",
       "\n",
       "    .dataframe thead th {\n",
       "        text-align: right;\n",
       "    }\n",
       "</style>\n",
       "<table border=\"1\" class=\"dataframe\">\n",
       "  <thead>\n",
       "    <tr style=\"text-align: right;\">\n",
       "      <th></th>\n",
       "      <th>type</th>\n",
       "      <th>year</th>\n",
       "      <th>month</th>\n",
       "      <th>run</th>\n",
       "      <th>t_output</th>\n",
       "      <th>t_transform</th>\n",
       "      <th>t_total</th>\n",
       "    </tr>\n",
       "  </thead>\n",
       "  <tbody>\n",
       "    <tr>\n",
       "      <th>0</th>\n",
       "      <td>general</td>\n",
       "      <td>1987</td>\n",
       "      <td>10</td>\n",
       "      <td>6.0</td>\n",
       "      <td>0.000235</td>\n",
       "      <td>2.010697</td>\n",
       "      <td>2.010934</td>\n",
       "    </tr>\n",
       "    <tr>\n",
       "      <th>2</th>\n",
       "      <td>general</td>\n",
       "      <td>1987</td>\n",
       "      <td>11</td>\n",
       "      <td>6.0</td>\n",
       "      <td>0.000255</td>\n",
       "      <td>1.863666</td>\n",
       "      <td>1.863921</td>\n",
       "    </tr>\n",
       "    <tr>\n",
       "      <th>4</th>\n",
       "      <td>specialized</td>\n",
       "      <td>1987</td>\n",
       "      <td>12</td>\n",
       "      <td>3.5</td>\n",
       "      <td>0.055572</td>\n",
       "      <td>2.044458</td>\n",
       "      <td>2.100032</td>\n",
       "    </tr>\n",
       "  </tbody>\n",
       "</table>\n",
       "</div>"
      ],
      "text/plain": [
       "          type  year  month  run  t_output  t_transform   t_total\n",
       "0      general  1987     10  6.0  0.000235     2.010697  2.010934\n",
       "2      general  1987     11  6.0  0.000255     1.863666  1.863921\n",
       "4  specialized  1987     12  3.5  0.055572     2.044458  2.100032"
      ]
     },
     "execution_count": 74,
     "metadata": {},
     "output_type": "execute_result"
    }
   ],
   "source": [
    "gdf_general.head()"
   ]
  },
  {
   "cell_type": "code",
   "execution_count": 51,
   "metadata": {},
   "outputs": [
    {
     "data": {
      "text/plain": [
       "<matplotlib.collections.PathCollection at 0x7efef553b400>"
      ]
     },
     "execution_count": 51,
     "metadata": {},
     "output_type": "execute_result"
    },
    {
     "data": {
      "image/png": "[encoded data removed]",
      "text/plain": [
       "<Figure size 432x288 with 1 Axes>"
      ]
     },
     "metadata": {
      "needs_background": "light"
     },
     "output_type": "display_data"
    }
   ],
   "source": [
    "plt.scatter(np.arange(len(gdf_general)), gdf_general['t_total'])\n",
    "plt.scatter(np.arange(len(gdf_special)), gdf_special['t_total'])"
   ]
  },
  {
   "cell_type": "code",
   "execution_count": 53,
   "metadata": {},
   "outputs": [
    {
     "data": {
      "text/plain": [
       "(879.2301936666667, 878.968282)"
      ]
     },
     "execution_count": 53,
     "metadata": {},
     "output_type": "execute_result"
    }
   ],
   "source": [
    "gdf_general.sum()['t_total'], gdf_special.sum()['t_total']"
   ]
  },
  {
   "cell_type": "code",
   "execution_count": 54,
   "metadata": {},
   "outputs": [],
   "source": [
    "#is there any effect when using up to 2004?"
   ]
  },
  {
   "cell_type": "code",
   "execution_count": 56,
   "metadata": {},
   "outputs": [
    {
     "data": {
      "text/plain": [
       "(380.48052800000005, 380.19102799999996)"
      ]
     },
     "execution_count": 56,
     "metadata": {},
     "output_type": "execute_result"
    }
   ],
   "source": [
    "gdf_general[gdf_general['year'] <= 2003]['t_total'].sum(), gdf_special[gdf_special['year'] <= 2003]['t_total'].sum()"
   ]
  },
  {
   "cell_type": "code",
   "execution_count": 57,
   "metadata": {},
   "outputs": [],
   "source": [
    "# basically a difference not worth talking about..."
   ]
  },
  {
   "cell_type": "code",
   "execution_count": 59,
   "metadata": {},
   "outputs": [
    {
     "name": "stdout",
     "output_type": "stream",
     "text": [
      "1 input files found\r\n",
      "SO Path: agg_weather_general.so\r\n",
      "transform stage: 1821431566 ns\r\n",
      "output stage: 239915 ns\r\n",
      "{\"output\":0.000239915,\"transform\":1.82143,\"total\":1.82167}\r\n"
     ]
    }
   ],
   "source": [
    "!cat ../results-agg-experiment/logs/flights-general-run-1-date-199206.txt"
   ]
  },
  {
   "cell_type": "code",
   "execution_count": null,
   "metadata": {},
   "outputs": [],
   "source": []
  }
 ],
 "metadata": {
  "kernelspec": {
   "display_name": "Python 3",
   "language": "python",
   "name": "python3"
  },
  "language_info": {
   "codemirror_mode": {
    "name": "ipython",
    "version": 3
   },
   "file_extension": ".py",
   "mimetype": "text/x-python",
   "name": "python",
   "nbconvert_exporter": "python",
   "pygments_lexer": "ipython3",
   "version": "3.6.9"
  }
 },
 "nbformat": 4,
 "nbformat_minor": 4
}
