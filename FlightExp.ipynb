{
 "cells": [
  {
   "cell_type": "code",
   "execution_count": 1,
   "id": "a8c894a5",
   "metadata": {},
   "outputs": [],
   "source": [
    "import pandas as pd"
   ]
  },
  {
   "cell_type": "code",
   "execution_count": 2,
   "id": "aff5c3b3",
   "metadata": {},
   "outputs": [
    {
     "name": "stderr",
     "output_type": "stream",
     "text": [
      "/usr/local/lib/python3.9/site-packages/IPython/core/interactiveshell.py:3169: DtypeWarning: Columns (48,77,84) have mixed types.Specify dtype option on import or set low_memory=False.\n",
      "  has_raised = await self.run_ast_nodes(code_ast.body, cell_name,\n"
     ]
    }
   ],
   "source": [
    "df = pd.read_csv('/Users/leonhards/Downloads/flights_on_time_performance_2021_09.csv')"
   ]
  },
  {
   "cell_type": "code",
   "execution_count": 4,
   "id": "82781d4b",
   "metadata": {},
   "outputs": [],
   "source": [
    "cols = list(df.columns)"
   ]
  },
  {
   "cell_type": "code",
   "execution_count": 5,
   "id": "3d93bbf8",
   "metadata": {
    "scrolled": false
   },
   "outputs": [
    {
     "data": {
      "text/plain": [
       "['YEAR',\n",
       " 'QUARTER',\n",
       " 'MONTH',\n",
       " 'DAY_OF_MONTH',\n",
       " 'DAY_OF_WEEK',\n",
       " 'FL_DATE',\n",
       " 'OP_UNIQUE_CARRIER',\n",
       " 'OP_CARRIER_AIRLINE_ID',\n",
       " 'OP_CARRIER',\n",
       " 'TAIL_NUM',\n",
       " 'OP_CARRIER_FL_NUM',\n",
       " 'ORIGIN_AIRPORT_ID',\n",
       " 'ORIGIN_AIRPORT_SEQ_ID',\n",
       " 'ORIGIN_CITY_MARKET_ID',\n",
       " 'ORIGIN',\n",
       " 'ORIGIN_CITY_NAME',\n",
       " 'ORIGIN_STATE_ABR',\n",
       " 'ORIGIN_STATE_FIPS',\n",
       " 'ORIGIN_STATE_NM',\n",
       " 'ORIGIN_WAC',\n",
       " 'DEST_AIRPORT_ID',\n",
       " 'DEST_AIRPORT_SEQ_ID',\n",
       " 'DEST_CITY_MARKET_ID',\n",
       " 'DEST',\n",
       " 'DEST_CITY_NAME',\n",
       " 'DEST_STATE_ABR',\n",
       " 'DEST_STATE_FIPS',\n",
       " 'DEST_STATE_NM',\n",
       " 'DEST_WAC',\n",
       " 'CRS_DEP_TIME',\n",
       " 'DEP_TIME',\n",
       " 'DEP_DELAY',\n",
       " 'DEP_DELAY_NEW',\n",
       " 'DEP_DEL15',\n",
       " 'DEP_DELAY_GROUP',\n",
       " 'DEP_TIME_BLK',\n",
       " 'TAXI_OUT',\n",
       " 'WHEELS_OFF',\n",
       " 'WHEELS_ON',\n",
       " 'TAXI_IN',\n",
       " 'CRS_ARR_TIME',\n",
       " 'ARR_TIME',\n",
       " 'ARR_DELAY',\n",
       " 'ARR_DELAY_NEW',\n",
       " 'ARR_DEL15',\n",
       " 'ARR_DELAY_GROUP',\n",
       " 'ARR_TIME_BLK',\n",
       " 'CANCELLED',\n",
       " 'CANCELLATION_CODE',\n",
       " 'DIVERTED',\n",
       " 'CRS_ELAPSED_TIME',\n",
       " 'ACTUAL_ELAPSED_TIME',\n",
       " 'AIR_TIME',\n",
       " 'FLIGHTS',\n",
       " 'DISTANCE',\n",
       " 'DISTANCE_GROUP',\n",
       " 'CARRIER_DELAY',\n",
       " 'WEATHER_DELAY',\n",
       " 'NAS_DELAY',\n",
       " 'SECURITY_DELAY',\n",
       " 'LATE_AIRCRAFT_DELAY',\n",
       " 'FIRST_DEP_TIME',\n",
       " 'TOTAL_ADD_GTIME',\n",
       " 'LONGEST_ADD_GTIME',\n",
       " 'DIV_AIRPORT_LANDINGS',\n",
       " 'DIV_REACHED_DEST',\n",
       " 'DIV_ACTUAL_ELAPSED_TIME',\n",
       " 'DIV_ARR_DELAY',\n",
       " 'DIV_DISTANCE',\n",
       " 'DIV1_AIRPORT',\n",
       " 'DIV1_AIRPORT_ID',\n",
       " 'DIV1_AIRPORT_SEQ_ID',\n",
       " 'DIV1_WHEELS_ON',\n",
       " 'DIV1_TOTAL_GTIME',\n",
       " 'DIV1_LONGEST_GTIME',\n",
       " 'DIV1_WHEELS_OFF',\n",
       " 'DIV1_TAIL_NUM',\n",
       " 'DIV2_AIRPORT',\n",
       " 'DIV2_AIRPORT_ID',\n",
       " 'DIV2_AIRPORT_SEQ_ID',\n",
       " 'DIV2_WHEELS_ON',\n",
       " 'DIV2_TOTAL_GTIME',\n",
       " 'DIV2_LONGEST_GTIME',\n",
       " 'DIV2_WHEELS_OFF',\n",
       " 'DIV2_TAIL_NUM',\n",
       " 'DIV3_AIRPORT',\n",
       " 'DIV3_AIRPORT_ID',\n",
       " 'DIV3_AIRPORT_SEQ_ID',\n",
       " 'DIV3_WHEELS_ON',\n",
       " 'DIV3_TOTAL_GTIME',\n",
       " 'DIV3_LONGEST_GTIME',\n",
       " 'DIV3_WHEELS_OFF',\n",
       " 'DIV3_TAIL_NUM',\n",
       " 'DIV4_AIRPORT',\n",
       " 'DIV4_AIRPORT_ID',\n",
       " 'DIV4_AIRPORT_SEQ_ID',\n",
       " 'DIV4_WHEELS_ON',\n",
       " 'DIV4_TOTAL_GTIME',\n",
       " 'DIV4_LONGEST_GTIME',\n",
       " 'DIV4_WHEELS_OFF',\n",
       " 'DIV4_TAIL_NUM',\n",
       " 'DIV5_AIRPORT',\n",
       " 'DIV5_AIRPORT_ID',\n",
       " 'DIV5_AIRPORT_SEQ_ID',\n",
       " 'DIV5_WHEELS_ON',\n",
       " 'DIV5_TOTAL_GTIME',\n",
       " 'DIV5_LONGEST_GTIME',\n",
       " 'DIV5_WHEELS_OFF',\n",
       " 'DIV5_TAIL_NUM',\n",
       " 'Unnamed: 109']"
      ]
     },
     "execution_count": 5,
     "metadata": {},
     "output_type": "execute_result"
    }
   ],
   "source": [
    "cols"
   ]
  },
  {
   "cell_type": "code",
   "execution_count": 24,
   "id": "7b0c557b",
   "metadata": {},
   "outputs": [
    {
     "data": {
      "text/plain": [
       "(3, 2, 57, 20)"
      ]
     },
     "execution_count": 24,
     "metadata": {},
     "output_type": "execute_result"
    }
   ],
   "source": [
    "cols.index('DAY_OF_MONTH'), cols.index('MONTH'), cols.index('WEATHER_DELAY'), cols.index('DEST_AIRPORT_ID')"
   ]
  },
  {
   "cell_type": "code",
   "execution_count": 22,
   "id": "02743f39",
   "metadata": {},
   "outputs": [
    {
     "data": {
      "text/plain": [
       "82301     0.0\n",
       "87286     0.0\n",
       "88827     0.0\n",
       "88829     0.0\n",
       "95024     0.0\n",
       "         ... \n",
       "536658    0.0\n",
       "536682    0.0\n",
       "537694    0.0\n",
       "537753    0.0\n",
       "537939    0.0\n",
       "Name: WEATHER_DELAY, Length: 1338, dtype: float64"
      ]
     },
     "execution_count": 22,
     "metadata": {},
     "output_type": "execute_result"
    }
   ],
   "source": [
    "df[df['DEST_AIRPORT_ID'] == 12478]['WEATHER_DELAY'].dropna()"
   ]
  },
  {
   "cell_type": "code",
   "execution_count": 10,
   "id": "2afee8b5",
   "metadata": {},
   "outputs": [],
   "source": [
    "df_airports = pd.read_csv('/Users/leonhards/Downloads/L_AIRPORT_ID.csv')"
   ]
  },
  {
   "cell_type": "code",
   "execution_count": 16,
   "id": "81128308",
   "metadata": {},
   "outputs": [
    {
     "data": {
      "text/plain": [
       "0              [Afognak Lake, AK,  Afognak Lake Airport]\n",
       "1       [Granite Mountain, AK,  Bear Creek Mining Strip]\n",
       "2                            [Lik, AK,  Lik Mining Camp]\n",
       "3              [Little Squaw, AK,  Little Squaw Airport]\n",
       "4                          [Kizhuyak, AK,  Kizhuyak Bay]\n",
       "                              ...                       \n",
       "6515                   [Nidwalder, Switzerland,  Buochs]\n",
       "6516                 [Abingdon, VA,  Virginia Highlands]\n",
       "6517               [San Antonio, TX,  Stinson Municipal]\n",
       "6518               [Istanbul, Turkey,  Istanbul Airport]\n",
       "6519                           [Unknown Point in Alaska]\n",
       "Name: Description, Length: 6520, dtype: object"
      ]
     },
     "execution_count": 16,
     "metadata": {},
     "output_type": "execute_result"
    }
   ],
   "source": [
    "df_airports['Description'].apply(lambda x: x.split(':'))"
   ]
  },
  {
   "cell_type": "code",
   "execution_count": 17,
   "id": "f5ec31a6",
   "metadata": {},
   "outputs": [],
   "source": [
    "# \"12478\",\"New York, NY: John F. Kennedy International\""
   ]
  },
  {
   "cell_type": "code",
   "execution_count": null,
   "id": "25ae6cda",
   "metadata": {},
   "outputs": [],
   "source": []
  }
 ],
 "metadata": {
  "kernelspec": {
   "display_name": "Python 3",
   "language": "python",
   "name": "python3"
  },
  "language_info": {
   "codemirror_mode": {
    "name": "ipython",
    "version": 3
   },
   "file_extension": ".py",
   "mimetype": "text/x-python",
   "name": "python",
   "nbconvert_exporter": "python",
   "pygments_lexer": "ipython3",
   "version": "3.9.10"
  }
 },
 "nbformat": 4,
 "nbformat_minor": 5
}
