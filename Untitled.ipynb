{
 "cells": [
  {
   "cell_type": "code",
   "execution_count": 1,
   "id": "7742dcf3",
   "metadata": {},
   "outputs": [
    {
     "name": "stdout",
     "output_type": "stream",
     "text": [
      "Welcome to\n",
      "\n",
      "  _____            _\n",
      " |_   _|   _ _ __ | | _____  __\n",
      "   | || | | | '_ \\| |/ _ \\ \\/ /\n",
      "   | || |_| | |_) | |  __/>  <\n",
      "   |_| \\__,_| .__/|_|\\___/_/\\_\\ 0.3.1\n",
      "            |_|\n",
      "    \n",
      "using Python 3.9.7 (default, Sep  3 2021, 12:45:31) \n",
      "[Clang 12.0.0 (clang-1200.0.32.29)] on darwin\n"
     ]
    }
   ],
   "source": [
    "import tuplex"
   ]
  },
  {
   "cell_type": "code",
   "execution_count": 2,
   "id": "33465335",
   "metadata": {},
   "outputs": [],
   "source": [
    "#c.ls(...)"
   ]
  },
  {
   "cell_type": "code",
   "execution_count": 3,
   "id": "5aed23eb",
   "metadata": {},
   "outputs": [],
   "source": [
    "from tuplex.distributed import setup_aws"
   ]
  },
  {
   "cell_type": "code",
   "execution_count": 4,
   "id": "d66c8856",
   "metadata": {},
   "outputs": [
    {
     "name": "stdout",
     "output_type": "stream",
     "text": [
      "build-lambda/tplxlam.zip  58.8MiB / 58.8MiB  (100.00%)\n",
      "Completed lambda setup in 33.81s\n"
     ]
    }
   ],
   "source": [
    "setup_aws(lambda_file='build-lambda/tplxlam.zip')"
   ]
  },
  {
   "cell_type": "code",
   "execution_count": null,
   "id": "e91f22cd",
   "metadata": {},
   "outputs": [],
   "source": []
  },
  {
   "cell_type": "code",
   "execution_count": 5,
   "id": "14869c6a",
   "metadata": {},
   "outputs": [
    {
     "name": "stdout",
     "output_type": "stream",
     "text": [
      "Tuplex WebUI can be accessed under http://localhost:5000\n"
     ]
    }
   ],
   "source": [
    "c = tuplex.LambdaContext()"
   ]
  },
  {
   "cell_type": "code",
   "execution_count": null,
   "id": "824dc6e0",
   "metadata": {},
   "outputs": [],
   "source": [
    "#paths = c.ls(\"s3://tuplex-public/data/github\")"
   ]
  },
  {
   "cell_type": "code",
   "execution_count": null,
   "id": "40599395",
   "metadata": {},
   "outputs": [],
   "source": [
    "c.csv('s3://tuplex-public/data/100GB/zillow_00001.csv').show(5)"
   ]
  },
  {
   "cell_type": "code",
   "execution_count": null,
   "id": "14b9bc87",
   "metadata": {},
   "outputs": [],
   "source": [
    "# benchmark systems"
   ]
  }
 ],
 "metadata": {
  "kernelspec": {
   "display_name": "Python 3",
   "language": "python",
   "name": "python3"
  },
  "language_info": {
   "codemirror_mode": {
    "name": "ipython",
    "version": 3
   },
   "file_extension": ".py",
   "mimetype": "text/x-python",
   "name": "python",
   "nbconvert_exporter": "python",
   "pygments_lexer": "ipython3",
   "version": "3.9.7"
  }
 },
 "nbformat": 4,
 "nbformat_minor": 5
}
